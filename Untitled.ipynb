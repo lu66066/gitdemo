{
 "cells": [
  {
   "cell_type": "code",
   "execution_count": 1,
   "metadata": {},
   "outputs": [
    {
     "name": "stdout",
     "output_type": "stream",
     "text": [
      "Collecting d6tflow\n",
      "  Downloading https://files.pythonhosted.org/packages/44/a2/2310d3351a030598c17d490a0bcce178cfef62498ddd1a09a128fd94c8be/d6tflow-0.1.9-py3-none-any.whl\n",
      "Collecting pyarrow (from d6tflow)\n",
      "  Downloading https://files.pythonhosted.org/packages/6b/b3/7e3dbf6544c997b36e753c5abdbb939087e2e3287d4b7929ec25902758cd/pyarrow-0.15.1-cp37-cp37m-win_amd64.whl (18.3MB)\n",
      "Requirement already satisfied: pandas in c:\\users\\admin\\anaconda3\\lib\\site-packages (from d6tflow) (0.25.1)\n",
      "Collecting luigi (from d6tflow)\n",
      "  Downloading https://files.pythonhosted.org/packages/15/6e/21bff3eb7891a22e7adf9202f23c5246cda572ab55492011a78280228f20/luigi-2.8.11.tar.gz (1.2MB)\n",
      "Collecting d6tcollect (from d6tflow)\n",
      "  Downloading https://files.pythonhosted.org/packages/b1/b8/6552579777dca2e3f0124362b6807655110fb8b82c65c657eb4eecf99800/d6tcollect-1.0.5-py3-none-any.whl\n",
      "Requirement already satisfied: numpy>=1.14 in c:\\users\\admin\\anaconda3\\lib\\site-packages (from pyarrow->d6tflow) (1.16.5)\n",
      "Requirement already satisfied: six>=1.0.0 in c:\\users\\admin\\anaconda3\\lib\\site-packages (from pyarrow->d6tflow) (1.12.0)\n",
      "Requirement already satisfied: pytz>=2017.2 in c:\\users\\admin\\anaconda3\\lib\\site-packages (from pandas->d6tflow) (2019.3)\n",
      "Requirement already satisfied: python-dateutil>=2.6.1 in c:\\users\\admin\\anaconda3\\lib\\site-packages (from pandas->d6tflow) (2.8.0)\n",
      "Collecting python-daemon (from luigi->d6tflow)\n",
      "  Downloading https://files.pythonhosted.org/packages/5a/0c/57f15b1572661877ff1acbe66c2f5be9d999ae5fb128e22933d374f62aa1/python_daemon-2.2.4-py2.py3-none-any.whl\n",
      "Collecting tornado<6,>=4.0 (from luigi->d6tflow)\n",
      "  Downloading https://files.pythonhosted.org/packages/d7/d5/99aff77c15da335e3dbf30254b304a526494dca8e51b4b47419772e35a4e/tornado-5.1.1-cp37-cp37m-win_amd64.whl (455kB)\n",
      "Collecting lockfile>=0.10 (from python-daemon->luigi->d6tflow)\n",
      "  Downloading https://files.pythonhosted.org/packages/c8/22/9460e311f340cb62d26a38c419b1381b8593b0bb6b5d1f056938b086d362/lockfile-0.12.2-py2.py3-none-any.whl\n",
      "Requirement already satisfied: docutils in c:\\users\\admin\\anaconda3\\lib\\site-packages (from python-daemon->luigi->d6tflow) (0.15.2)\n",
      "Requirement already satisfied: setuptools in c:\\users\\admin\\anaconda3\\lib\\site-packages (from python-daemon->luigi->d6tflow) (41.4.0)\n",
      "Building wheels for collected packages: luigi\n",
      "  Building wheel for luigi (setup.py): started\n",
      "  Building wheel for luigi (setup.py): finished with status 'done'\n",
      "  Created wheel for luigi: filename=luigi-2.8.11-cp37-none-any.whl size=1087139 sha256=7a91382989a625d335e1a71dd39a16d06f644977bac2b475584a8453f8e3d9c3\n",
      "  Stored in directory: C:\\Users\\Admin\\AppData\\Local\\pip\\Cache\\wheels\\3e\\e1\\7f\\49300ab6d40bdd932afd7d146f5b6cbc453c5542adb94919f4\n",
      "Successfully built luigi\n",
      "Installing collected packages: pyarrow, lockfile, python-daemon, tornado, luigi, d6tcollect, d6tflow\n",
      "  Found existing installation: tornado 6.0.3\n",
      "    Uninstalling tornado-6.0.3:\n",
      "      Successfully uninstalled tornado-6.0.3\n"
     ]
    },
    {
     "name": "stderr",
     "output_type": "stream",
     "text": [
      "ERROR: Could not install packages due to an EnvironmentError: [WinError 5] Access is denied: 'c:\\\\users\\\\admin\\\\anaconda3\\\\lib\\\\site-packages\\\\~ornado\\\\speedups.cp37-win_amd64.pyd'\n",
      "Consider using the `--user` option or check the permissions.\n",
      "\n"
     ]
    }
   ],
   "source": [
    "! pip install d6tflow"
   ]
  },
  {
   "cell_type": "code",
   "execution_count": null,
   "metadata": {},
   "outputs": [],
   "source": []
  },
  {
   "cell_type": "code",
   "execution_count": null,
   "metadata": {},
   "outputs": [],
   "source": [
    "\n",
    "import d6tflow\n",
    "import cfg, visualize\n",
    "import tasks_dask as tasks\n",
    "# import tasks_spark as tasks\n",
    "\n",
    "d6tflow.set_dir(cfg.dirpath)\n",
    "\n",
    "tasks.SetIndexAll().run()\n",
    "\n",
    "task = tasks.SetIndexAll()\n",
    "d6tflow.run(task)#, forced_all=True, confirm=False)\n",
    "\n",
    "# task = tasks.CitePagerank()\n",
    "\n",
    "# d6tflow.run(task)#, forced_all=True, confirm=False)\n",
    "\n",
    "# visualize.pr_out()\n",
    "\n",
    "quit()\n",
    "d6tflow.run(tasks.TaskTrain(do_preprocess=False))\n",
    "visualize.accuracy(do_preprocess=False)\n",
    "\n",
    "import importlib\n",
    "importlib.reload(cfg)\n",
    "importlib.reload(tasks)\n",
    "\n",
    "d6tflow.invalidate_downstream(tasks.TaskGetData(), tasks.TaskTrain())\n",
    "\n",
    "d6tflow.show(tasks.TaskTrain())\n",
    "d6tflow.run(tasks.TaskTrain())\n",
    "\n"
   ]
  }
 ],
 "metadata": {
  "kernelspec": {
   "display_name": "Python 3",
   "language": "python",
   "name": "python3"
  },
  "language_info": {
   "codemirror_mode": {
    "name": "ipython",
    "version": 3
   },
   "file_extension": ".py",
   "mimetype": "text/x-python",
   "name": "python",
   "nbconvert_exporter": "python",
   "pygments_lexer": "ipython3",
   "version": "3.7.4"
  }
 },
 "nbformat": 4,
 "nbformat_minor": 2
}
